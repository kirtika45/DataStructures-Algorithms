{
 "cells": [
  {
   "cell_type": "markdown",
   "metadata": {},
   "source": [
    "Minimize the Heights II\n"
   ]
  },
  {
   "cell_type": "markdown",
   "metadata": {},
   "source": [
    "Given an array arr[] denoting heights of N towers and a positive integer K.\n",
    "\n",
    "For each tower, you must perform exactly one of the following operations exactly once.\n",
    "\n",
    "Increase the height of the tower by K\n",
    "Decrease the height of the tower by K\n",
    "Find out the minimum possible difference between the height of the shortest and tallest towers after you have modified each tower."
   ]
  },
  {
   "cell_type": "markdown",
   "metadata": {},
   "source": [
    "Note: It is compulsory to increase or decrease the height by K for each tower. After the operation, the resultant array should not contain any negative integers."
   ]
  },
  {
   "cell_type": "code",
   "execution_count": 3,
   "metadata": {},
   "outputs": [
    {
     "name": "stdout",
     "output_type": "stream",
     "text": [
      "5\n"
     ]
    }
   ],
   "source": [
    "def MinimizeTheHeights(arr,K):\n",
    "    Minimum = min(arr)\n",
    "    Maximum = max(arr)\n",
    "\n",
    "    Minimum = Minimum + K\n",
    "    Maximum = Maximum - K\n",
    "\n",
    "    return Maximum - Minimum\n",
    "\n",
    "arr = [1,5,8,10]\n",
    "K = 2\n",
    "print(MinimizeTheHeights(arr,K))\n",
    "\n"
   ]
  },
  {
   "cell_type": "code",
   "execution_count": 4,
   "metadata": {},
   "outputs": [
    {
     "name": "stdout",
     "output_type": "stream",
     "text": [
      "11\n"
     ]
    }
   ],
   "source": [
    "arr = [3,9,12,16,20]\n",
    "K = 3\n",
    "print(MinimizeTheHeights(arr,K))"
   ]
  }
 ],
 "metadata": {
  "kernelspec": {
   "display_name": "base",
   "language": "python",
   "name": "python3"
  },
  "language_info": {
   "codemirror_mode": {
    "name": "ipython",
    "version": 3
   },
   "file_extension": ".py",
   "mimetype": "text/x-python",
   "name": "python",
   "nbconvert_exporter": "python",
   "pygments_lexer": "ipython3",
   "version": "3.11.7"
  }
 },
 "nbformat": 4,
 "nbformat_minor": 2
}
