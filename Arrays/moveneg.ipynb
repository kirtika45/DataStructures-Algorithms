{
 "cells": [
  {
   "cell_type": "markdown",
   "metadata": {},
   "source": [
    "Move all negative numbers to beginning and positive to end with constant extra space"
   ]
  },
  {
   "cell_type": "markdown",
   "metadata": {},
   "source": [
    "An array contains both positive and negative numbers in random order. Rearrange the array elements so that all negative numbers appear before all positive numbers."
   ]
  },
  {
   "cell_type": "code",
   "execution_count": null,
   "metadata": {},
   "outputs": [
    {
     "ename": "KeyboardInterrupt",
     "evalue": "",
     "output_type": "error",
     "traceback": [
      "\u001b[1;31m---------------------------------------------------------------------------\u001b[0m",
      "\u001b[1;31mKeyboardInterrupt\u001b[0m                         Traceback (most recent call last)",
      "Cell \u001b[1;32mIn[2], line 18\u001b[0m\n\u001b[0;32m     14\u001b[0m     \u001b[38;5;28;01mreturn\u001b[39;00m arr\n\u001b[0;32m     17\u001b[0m arr \u001b[38;5;241m=\u001b[39m \u001b[38;5;28mlist\u001b[39m(\u001b[38;5;28mmap\u001b[39m(\u001b[38;5;28mint\u001b[39m, \u001b[38;5;28minput\u001b[39m()\u001b[38;5;241m.\u001b[39msplit(\u001b[38;5;124m'\u001b[39m\u001b[38;5;124m \u001b[39m\u001b[38;5;124m'\u001b[39m)))\n\u001b[1;32m---> 18\u001b[0m \u001b[38;5;28mprint\u001b[39m(move(arr))\n",
      "Cell \u001b[1;32mIn[2], line 5\u001b[0m, in \u001b[0;36mmove\u001b[1;34m(arr)\u001b[0m\n\u001b[0;32m      2\u001b[0m lo \u001b[38;5;241m=\u001b[39m \u001b[38;5;241m0\u001b[39m \n\u001b[0;32m      3\u001b[0m hi \u001b[38;5;241m=\u001b[39m \u001b[38;5;28mlen\u001b[39m(arr)\u001b[38;5;241m-\u001b[39m\u001b[38;5;241m1\u001b[39m\n\u001b[1;32m----> 5\u001b[0m \u001b[38;5;28;01mwhile\u001b[39;00m lo\u001b[38;5;241m<\u001b[39m\u001b[38;5;241m=\u001b[39mhi:\n\u001b[0;32m      6\u001b[0m     \u001b[38;5;28;01mif\u001b[39;00m (arr[lo]\u001b[38;5;241m>\u001b[39m \u001b[38;5;241m0\u001b[39m \u001b[38;5;129;01mand\u001b[39;00m arr[hi]\u001b[38;5;241m<\u001b[39m\u001b[38;5;241m0\u001b[39m):\n\u001b[0;32m      7\u001b[0m         arr[lo],arr[hi] \u001b[38;5;241m=\u001b[39m arr[hi],arr[lo]\n",
      "\u001b[1;31mKeyboardInterrupt\u001b[0m: "
     ]
    }
   ],
   "source": [
    "def move(arr):\n",
    "    lo = 0 \n",
    "    hi = len(arr)-1\n",
    "    \n",
    "    while lo<=hi:\n",
    "        if (arr[lo]> 0 and arr[hi]<0):\n",
    "            arr[lo],arr[hi] = arr[hi],arr[lo]\n",
    "            lo += 1\n",
    "            hi -= 1\n",
    "\n",
    "        elif arr[lo] < 0:\n",
    "            lo += 1\n",
    "\n",
    "        else:\n",
    "            hi -=1    \n",
    "\n",
    "    return arr\n",
    "\n",
    "\n",
    "#arr = list(map(int, input().split(' ')))\n",
    "arr= [-12,11,-13,-5,6,-7,5,-3,-6]\n",
    "print(move(arr))\n"
   ]
  },
  {
   "cell_type": "code",
   "execution_count": 3,
   "metadata": {},
   "outputs": [
    {
     "name": "stdout",
     "output_type": "stream",
     "text": [
      "[-12, -6, -13, -5, -3, -7, 5, 6, 11]\n"
     ]
    }
   ],
   "source": [
    "def move(arr):\n",
    "    lo = 0 \n",
    "    hi = len(arr)-1\n",
    "    \n",
    "    while lo<hi:\n",
    "        if (arr[lo]> 0 and arr[hi]<0):\n",
    "            arr[lo],arr[hi] = arr[hi],arr[lo]\n",
    "            lo += 1\n",
    "            hi -= 1\n",
    "\n",
    "        elif arr[lo] < 0:\n",
    "            lo += 1\n",
    "\n",
    "        else:\n",
    "            hi -=1    \n",
    "\n",
    "    return arr\n",
    "\n",
    "\n",
    "#arr = list(map(int, input().split(' ')))\n",
    "arr= [-12,11,-13,-5,6,-7,5,-3,-6]\n",
    "print(move(arr))"
   ]
  }
 ],
 "metadata": {
  "kernelspec": {
   "display_name": "base",
   "language": "python",
   "name": "python3"
  },
  "language_info": {
   "codemirror_mode": {
    "name": "ipython",
    "version": 3
   },
   "file_extension": ".py",
   "mimetype": "text/x-python",
   "name": "python",
   "nbconvert_exporter": "python",
   "pygments_lexer": "ipython3",
   "version": "3.11.7"
  }
 },
 "nbformat": 4,
 "nbformat_minor": 2
}
