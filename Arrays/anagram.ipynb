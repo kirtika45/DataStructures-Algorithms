{
 "cells": [
  {
   "cell_type": "code",
   "execution_count": 38,
   "metadata": {},
   "outputs": [
    {
     "name": "stdout",
     "output_type": "stream",
     "text": [
      "{'c', 't', 'a'} {'t', 'p', 'a'}\n",
      "False\n"
     ]
    }
   ],
   "source": [
    "def anagram(arr,arr2):\n",
    "    a = set()\n",
    "    b = set()\n",
    "    for _ in arr:\n",
    "\n",
    "        a.add(_)\n",
    "    for _ in arr2:\n",
    "\n",
    "        b.add(_)\n",
    "\n",
    "    print(a,b)    \n",
    "        \n",
    "    if a != b:\n",
    "        return False\n",
    "    return True\n",
    "    \n",
    "    \n",
    "\n",
    "\n",
    "\n",
    "arr = 'cat'\n",
    "arr1 = 'tap'\n",
    "\n",
    "\n",
    "print(anagram(arr,arr1))\n",
    "\n"
   ]
  },
  {
   "cell_type": "code",
   "execution_count": 39,
   "metadata": {},
   "outputs": [
    {
     "name": "stdout",
     "output_type": "stream",
     "text": [
      "{'i', 's', 'e', 't', 'n', 'l'} {'i', 'e', 's', 't', 'n', 'l'}\n",
      "True\n"
     ]
    }
   ],
   "source": [
    "arr = 'listen'\n",
    "arr1 = 'silent'\n",
    "print(anagram(arr,arr1))"
   ]
  }
 ],
 "metadata": {
  "kernelspec": {
   "display_name": "base",
   "language": "python",
   "name": "python3"
  },
  "language_info": {
   "codemirror_mode": {
    "name": "ipython",
    "version": 3
   },
   "file_extension": ".py",
   "mimetype": "text/x-python",
   "name": "python",
   "nbconvert_exporter": "python",
   "pygments_lexer": "ipython3",
   "version": "3.11.7"
  }
 },
 "nbformat": 4,
 "nbformat_minor": 2
}
