{
 "cells": [
  {
   "cell_type": "markdown",
   "metadata": {},
   "source": [
    "Kadane's Algorithm\n"
   ]
  },
  {
   "cell_type": "markdown",
   "metadata": {},
   "source": [
    "Given an integer array arr[]. You need to find the maximum sum of a subarray."
   ]
  },
  {
   "cell_type": "code",
   "execution_count": 5,
   "metadata": {},
   "outputs": [
    {
     "name": "stdout",
     "output_type": "stream",
     "text": [
      "3\n"
     ]
    }
   ],
   "source": [
    "import math\n",
    "arr = [2,3,-8,7,-1,2,3]\n",
    "print(math.floor(len(arr)/2))"
   ]
  },
  {
   "cell_type": "code",
   "execution_count": 20,
   "metadata": {},
   "outputs": [
    {
     "name": "stdout",
     "output_type": "stream",
     "text": [
      "7\n"
     ]
    }
   ],
   "source": [
    "def kardane_algo(arr):\n",
    "    sum1 = 0\n",
    "    sum2 = 0\n",
    "    firsthalf = math.floor(len(arr)/2)\n",
    "    secondhalf = len(arr)-firsthalf\n",
    "    for _ in range(0, firsthalf):\n",
    "        sum1 += arr[_]\n",
    "    for _ in range(firsthalf,len(arr)):\n",
    "        sum2 += arr[_]\n",
    "\n",
    "    if sum1 and sum2 <0:\n",
    "        return max(arr)\n",
    "    elif sum1 < 0:\n",
    "        return sum2\n",
    "    elif sum1 <sum2:\n",
    "        return sum1+sum2\n",
    "    \n",
    "    elif sum2<0:\n",
    "        return sum1\n",
    "    elif sum1> sum2:\n",
    "        return sum1\n",
    "\n",
    "\n",
    "arr = list(map(int,input().split(' ')))\n",
    "print(kardane_algo(arr))\n",
    "\n",
    "\n"
   ]
  },
  {
   "cell_type": "code",
   "execution_count": null,
   "metadata": {},
   "outputs": [],
   "source": []
  }
 ],
 "metadata": {
  "kernelspec": {
   "display_name": "base",
   "language": "python",
   "name": "python3"
  },
  "language_info": {
   "codemirror_mode": {
    "name": "ipython",
    "version": 3
   },
   "file_extension": ".py",
   "mimetype": "text/x-python",
   "name": "python",
   "nbconvert_exporter": "python",
   "pygments_lexer": "ipython3",
   "version": "3.11.7"
  }
 },
 "nbformat": 4,
 "nbformat_minor": 2
}
