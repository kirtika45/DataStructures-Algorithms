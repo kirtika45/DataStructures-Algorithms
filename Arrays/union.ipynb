{
 "cells": [
  {
   "cell_type": "code",
   "execution_count": 1,
   "metadata": {},
   "outputs": [
    {
     "name": "stdout",
     "output_type": "stream",
     "text": [
      "([32, 1, 2, 6, 85, 54, 25], 7)\n"
     ]
    }
   ],
   "source": [
    "# Function to find the union of two arrays\n",
    "def union(a, b):\n",
    "    arr = set()  # Use set to store unique elements\n",
    "    \n",
    "    # Add elements from array a to the set\n",
    "    for elem in a:\n",
    "        arr.add(elem)\n",
    "    \n",
    "    # Add elements from array b to the set\n",
    "    for elem in b:\n",
    "        arr.add(elem)\n",
    "    \n",
    "    # Convert the set to a list and return it\n",
    "    return list(arr), len(list(arr))\n",
    "\n",
    "# Example usage\n",
    "a = [85, 25, 1, 32, 54, 6]\n",
    "b = [85, 2]\n",
    "print(union(a, b))"
   ]
  }
 ],
 "metadata": {
  "kernelspec": {
   "display_name": "base",
   "language": "python",
   "name": "python3"
  },
  "language_info": {
   "codemirror_mode": {
    "name": "ipython",
    "version": 3
   },
   "file_extension": ".py",
   "mimetype": "text/x-python",
   "name": "python",
   "nbconvert_exporter": "python",
   "pygments_lexer": "ipython3",
   "version": "3.11.7"
  }
 },
 "nbformat": 4,
 "nbformat_minor": 2
}
