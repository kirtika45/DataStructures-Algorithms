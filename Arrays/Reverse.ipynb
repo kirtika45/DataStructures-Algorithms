{
 "cells": [
  {
   "cell_type": "markdown",
   "metadata": {},
   "source": [
    "#ARRAYS\n",
    "#Reversing of an array"
   ]
  },
  {
   "cell_type": "code",
   "execution_count": 1,
   "metadata": {},
   "outputs": [
    {
     "name": "stdout",
     "output_type": "stream",
     "text": [
      "[12, 13, 6, 5]\n"
     ]
    }
   ],
   "source": [
    "a = [5,6,13,12]\n",
    "n = len(a)\n",
    "\n",
    "temp = [] * n\n",
    "\n",
    "for _ in range(n):\n",
    "    temp.append(a[n-1-_])\n",
    "\n",
    "print(temp)"
   ]
  },
  {
   "cell_type": "code",
   "execution_count": 1,
   "metadata": {},
   "outputs": [
    {
     "name": "stdout",
     "output_type": "stream",
     "text": [
      "['12', '13', '6', '5']\n"
     ]
    }
   ],
   "source": [
    "def reversed(arr):\n",
    "    n = len(arr)\n",
    "\n",
    "    temp = [] * n\n",
    "\n",
    "    for _ in range(n):\n",
    "        temp.append(arr[n-1-_])\n",
    "    print(temp)    \n",
    "\n",
    "reversed(input([]).split(' '))        "
   ]
  },
  {
   "cell_type": "code",
   "execution_count": 6,
   "metadata": {},
   "outputs": [
    {
     "data": {
      "text/plain": [
       "[12, 13, 6, 5]"
      ]
     },
     "execution_count": 6,
     "metadata": {},
     "output_type": "execute_result"
    }
   ],
   "source": [
    "#Using Pointers - EXPECTED APPROACH\n",
    "def reversed(arr):\n",
    "    n = len(arr)\n",
    "\n",
    "    left = 0\n",
    "    right = n-1\n",
    "\n",
    "    while left<right:\n",
    "        arr[left], arr[right] = arr[right], arr[left]\n",
    "        left += 1\n",
    "        right -= 1\n",
    "\n",
    "    return arr    \n",
    "\n",
    "reversed([5,6,13,12])       "
   ]
  }
 ],
 "metadata": {
  "kernelspec": {
   "display_name": "base",
   "language": "python",
   "name": "python3"
  },
  "language_info": {
   "codemirror_mode": {
    "name": "ipython",
    "version": 3
   },
   "file_extension": ".py",
   "mimetype": "text/x-python",
   "name": "python",
   "nbconvert_exporter": "python",
   "pygments_lexer": "ipython3",
   "version": "3.11.7"
  }
 },
 "nbformat": 4,
 "nbformat_minor": 2
}
