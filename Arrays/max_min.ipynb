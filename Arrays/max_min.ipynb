{
 "cells": [
  {
   "cell_type": "markdown",
   "metadata": {},
   "source": [
    "Maximum and minimum of an array using minimum number of comparisons"
   ]
  },
  {
   "cell_type": "markdown",
   "metadata": {},
   "source": [
    "Given an array of size N. The task is to find the maximum and the minimum element of the array using the minimum number of comparisons."
   ]
  },
  {
   "cell_type": "code",
   "execution_count": 17,
   "metadata": {},
   "outputs": [
    {
     "name": "stdout",
     "output_type": "stream",
     "text": [
      "1\n",
      "9\n"
     ]
    }
   ],
   "source": [
    "def minimum(arr):\n",
    "    Min = float('inf')\n",
    "    for _ in range(n):\n",
    "        if arr[_] < Min:\n",
    "            Min = arr[_]\n",
    "    return Min\n",
    "\n",
    "def maximum(arr):\n",
    "    Max = float('-inf')\n",
    "    for _ in range(n):\n",
    "        if arr[_] > Max:\n",
    "            Max = arr[_]\n",
    "    return Max\n",
    "\n",
    "arr = list(map(int, input().split(' ')))\n",
    "n = len(arr)\n",
    "print(minimum(arr))\n",
    "print(maximum(arr))"
   ]
  },
  {
   "cell_type": "code",
   "execution_count": 18,
   "metadata": {},
   "outputs": [
    {
     "name": "stdout",
     "output_type": "stream",
     "text": [
      "(1, 9)\n"
     ]
    }
   ],
   "source": [
    "#Maximum and minimum of an array using Sorting:\n",
    "def min_and_max(arr):\n",
    "    arr.sort()\n",
    "    Min, Max = arr[0], arr[n-1]\n",
    "    return Min,Max\n",
    "\n",
    "arr = list(map(int,input().split(' ')))\n",
    "n = len(arr)\n",
    "print(min_and_max(arr))"
   ]
  },
  {
   "cell_type": "code",
   "execution_count": 50,
   "metadata": {},
   "outputs": [
    {
     "name": "stdout",
     "output_type": "stream",
     "text": [
      "(3, 3)\n"
     ]
    }
   ],
   "source": [
    "#Maximum and minimum of an array using Linear search:\n",
    "def min_and_max(arr):\n",
    "    Min, Max = arr[0], arr[1]\n",
    "    if n==1:\n",
    "        Min, Max = arr[0],arr[0]\n",
    "    elif n==2:\n",
    "        if arr[0] > arr[1]:\n",
    "            Min, Max = arr[1], arr[0]\n",
    "        else:\n",
    "            Min, Max = arr[0], arr[1]\n",
    "    elif n>2:    \n",
    "        for _ in range(0,n):\n",
    "            if arr[_] < Min:\n",
    "                Min = arr[_]\n",
    "            elif arr[_] > Max:\n",
    "                Max = arr[_]\n",
    "            else:\n",
    "                continue\n",
    "    return Min, Max\n",
    "\n",
    "arr = list(map(int,input().split(',')))\n",
    "n = len(arr)\n",
    "print(min_and_max(arr))            "
   ]
  },
  {
   "cell_type": "code",
   "execution_count": 51,
   "metadata": {},
   "outputs": [
    {
     "name": "stdout",
     "output_type": "stream",
     "text": [
      "(5, 34)\n"
     ]
    }
   ],
   "source": [
    "arr = [34,5]\n",
    "print(min_and_max(arr))"
   ]
  },
  {
   "cell_type": "code",
   "execution_count": null,
   "metadata": {},
   "outputs": [],
   "source": [
    "#Tournament Method\n"
   ]
  }
 ],
 "metadata": {
  "kernelspec": {
   "display_name": "base",
   "language": "python",
   "name": "python3"
  },
  "language_info": {
   "codemirror_mode": {
    "name": "ipython",
    "version": 3
   },
   "file_extension": ".py",
   "mimetype": "text/x-python",
   "name": "python",
   "nbconvert_exporter": "python",
   "pygments_lexer": "ipython3",
   "version": "3.11.7"
  }
 },
 "nbformat": 4,
 "nbformat_minor": 2
}
