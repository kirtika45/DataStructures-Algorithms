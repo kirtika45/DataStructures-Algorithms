{
 "cells": [
  {
   "cell_type": "markdown",
   "metadata": {},
   "source": [
    "Union of Arrays with Duplicates"
   ]
  },
  {
   "cell_type": "markdown",
   "metadata": {},
   "source": [
    "Given two arrays a[] and b[], the task is to find the number of elements in the union between these two arrays.\n",
    "\n",
    "The Union of the two arrays can be defined as the set containing distinct elements from both arrays. If there are repetitions, then only one element occurrence should be there in the union.\n",
    "\n",
    "Note: Elements of a[] and b[] are not necessarily distinct."
   ]
  },
  {
   "cell_type": "code",
   "execution_count": 39,
   "metadata": {},
   "outputs": [
    {
     "name": "stdout",
     "output_type": "stream",
     "text": [
      "(7, [85, 25, 1, 32, 54, 6, 2])\n"
     ]
    }
   ],
   "source": [
    "def union(arr):\n",
    "    count = 0\n",
    "    for it in a:\n",
    "        if it not in arr:\n",
    "            arr.append(it)\n",
    "            count +=1\n",
    "    for it in b:\n",
    "        if it not in arr:\n",
    "            arr.append(it)\n",
    "            count += 1\n",
    "\n",
    "    return count, arr\n",
    "\n",
    "\n",
    "#a = [1,2,3,4,5]\n",
    "#b = [1,2,3]\n",
    "a = [85, 25, 1, 32, 54, 6]\n",
    "b = [85, 2] \n",
    "arr = []\n",
    "print(union(arr))"
   ]
  }
 ],
 "metadata": {
  "kernelspec": {
   "display_name": "base",
   "language": "python",
   "name": "python3"
  },
  "language_info": {
   "codemirror_mode": {
    "name": "ipython",
    "version": 3
   },
   "file_extension": ".py",
   "mimetype": "text/x-python",
   "name": "python",
   "nbconvert_exporter": "python",
   "pygments_lexer": "ipython3",
   "version": "3.11.7"
  }
 },
 "nbformat": 4,
 "nbformat_minor": 2
}
