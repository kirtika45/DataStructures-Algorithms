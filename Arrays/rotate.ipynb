{
 "cells": [
  {
   "cell_type": "markdown",
   "metadata": {},
   "source": [
    "Rotate Array by One"
   ]
  },
  {
   "cell_type": "markdown",
   "metadata": {},
   "source": [
    "Given an array arr, rotate the array by one position in clockwise direction."
   ]
  },
  {
   "cell_type": "code",
   "execution_count": 8,
   "metadata": {},
   "outputs": [
    {
     "name": "stdout",
     "output_type": "stream",
     "text": [
      "[5, 1, 2, 3, 4]\n"
     ]
    }
   ],
   "source": [
    "arr = [1,2,3,4,5]\n",
    "arr1 = []\n",
    "for _ in range(len(arr)):\n",
    "    if _ == 0:\n",
    "        arr1.append(arr[len(arr)-1])\n",
    "    else:\n",
    "        arr1.append(arr[_-1])\n",
    "print(arr1)\n",
    "\n"
   ]
  },
  {
   "cell_type": "code",
   "execution_count": 9,
   "metadata": {},
   "outputs": [
    {
     "name": "stdout",
     "output_type": "stream",
     "text": [
      "[5, 1, 2, 3, 4]\n"
     ]
    }
   ],
   "source": [
    "def rotate_arr(arr):\n",
    "    arr1 = []\n",
    "    for _ in range(len(arr)):\n",
    "        if _ == 0:\n",
    "            arr1.append(arr[len(arr)-1])\n",
    "        else:\n",
    "            arr1.append(arr[_-1])\n",
    "\n",
    "    return arr1\n",
    "\n",
    "arr = [1,2,3,4,5]\n",
    "print(rotate_arr(arr))       "
   ]
  },
  {
   "cell_type": "code",
   "execution_count": 10,
   "metadata": {},
   "outputs": [
    {
     "name": "stdout",
     "output_type": "stream",
     "text": [
      "[3, 9, 8, 7, 6, 4, 2, 1]\n"
     ]
    }
   ],
   "source": [
    "print(rotate_arr([9, 8, 7, 6, 4, 2, 1, 3]))"
   ]
  },
  {
   "cell_type": "code",
   "execution_count": 1,
   "metadata": {},
   "outputs": [
    {
     "name": "stdout",
     "output_type": "stream",
     "text": [
      "[3, 9, 8, 7, 6, 4, 2, 1]\n"
     ]
    }
   ],
   "source": [
    "def rotate(arr):\n",
    "    temp = arr[-1]\n",
    "\n",
    "    for _ in range(len(arr)-1,0,-1):\n",
    "        arr[_] = arr[_-1]\n",
    "    \n",
    "    arr[0] = temp\n",
    "\n",
    "    return arr\n",
    "\n",
    "arr = [9, 8, 7, 6, 4, 2, 1, 3]\n",
    "print(rotate(arr))   "
   ]
  }
 ],
 "metadata": {
  "kernelspec": {
   "display_name": "base",
   "language": "python",
   "name": "python3"
  },
  "language_info": {
   "codemirror_mode": {
    "name": "ipython",
    "version": 3
   },
   "file_extension": ".py",
   "mimetype": "text/x-python",
   "name": "python",
   "nbconvert_exporter": "python",
   "pygments_lexer": "ipython3",
   "version": "3.11.7"
  }
 },
 "nbformat": 4,
 "nbformat_minor": 2
}
