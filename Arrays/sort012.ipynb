{
 "cells": [
  {
   "cell_type": "markdown",
   "metadata": {},
   "source": [
    "Sort 0s, 1s and 2s\n",
    "\n"
   ]
  },
  {
   "cell_type": "markdown",
   "metadata": {},
   "source": [
    "Given an array arr[] containing only 0s, 1s, and 2s. Sort the array in ascending order."
   ]
  },
  {
   "cell_type": "code",
   "execution_count": 2,
   "metadata": {},
   "outputs": [
    {
     "name": "stdout",
     "output_type": "stream",
     "text": [
      "[0, 0, 1, 1, 2, 2]\n"
     ]
    }
   ],
   "source": [
    "arr = list(map(int,input().split(' ')))\n",
    "arr.sort()\n",
    "print(arr)"
   ]
  },
  {
   "cell_type": "code",
   "execution_count": 11,
   "metadata": {},
   "outputs": [
    {
     "name": "stdout",
     "output_type": "stream",
     "text": [
      "[0, 0, 1, 1, 2, 2]\n"
     ]
    }
   ],
   "source": [
    "#[Expected Approach] **Dutch National Flag Algorithm** - One Pass - O(n) Time and O(1) Space\n",
    "\n",
    "def sort012(arr):\n",
    "    lo = 0\n",
    "    mid = 0\n",
    "    hi = len(arr)-1\n",
    "\n",
    "    while mid<=hi:\n",
    "        if arr[mid] == 0:\n",
    "            arr[lo], arr[mid] = arr[mid], arr[lo]\n",
    "            lo += 1\n",
    "            mid +=1\n",
    "\n",
    "        elif arr[mid]==1:\n",
    "            mid += 1\n",
    "\n",
    "        else:\n",
    "            arr[mid],arr[hi] = arr[hi],arr[mid]\n",
    "            hi -= 1\n",
    "\n",
    "    return arr             \n",
    "\n",
    "arr = list(map(int,input().split(' ')))\n",
    "print(sort012(arr))"
   ]
  },
  {
   "cell_type": "code",
   "execution_count": 12,
   "metadata": {},
   "outputs": [
    {
     "name": "stdout",
     "output_type": "stream",
     "text": [
      "[0, 0, 1, 1, 1, 2, 2]\n"
     ]
    }
   ],
   "source": [
    "print(sort012([1,1,2,0,0,2,1]))"
   ]
  }
 ],
 "metadata": {
  "kernelspec": {
   "display_name": "base",
   "language": "python",
   "name": "python3"
  },
  "language_info": {
   "codemirror_mode": {
    "name": "ipython",
    "version": 3
   },
   "file_extension": ".py",
   "mimetype": "text/x-python",
   "name": "python",
   "nbconvert_exporter": "python",
   "pygments_lexer": "ipython3",
   "version": "3.11.7"
  }
 },
 "nbformat": 4,
 "nbformat_minor": 2
}
