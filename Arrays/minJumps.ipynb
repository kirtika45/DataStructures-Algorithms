{
 "cells": [
  {
   "cell_type": "markdown",
   "metadata": {},
   "source": [
    "Minimum Jumps"
   ]
  },
  {
   "cell_type": "markdown",
   "metadata": {},
   "source": [
    "You are given an array arr[] of non-negative numbers. Each number tells you the maximum number of steps you can jump forward from that position.\n",
    "\n",
    "For example:\n",
    "\n",
    "If arr[i] = 3, you can jump 1 step, 2 steps, or 3 steps forward from position i.\n",
    "If arr[i] = 0, you cannot jump forward from that position.\n",
    "Your task is to find the minimum number of jumps needed to move from the first position in the array to the last position.\n",
    "\n",
    "Note:  Return -1 if you can't reach the end of the array."
   ]
  },
  {
   "cell_type": "markdown",
   "metadata": {},
   "source": [
    "Examples : \n",
    "\n",
    "Input: arr[] = [1, 3, 5, 8, 9, 2, 6, 7, 6, 8, 9]\n",
    "Output: 3 \n",
    "Explanation: First jump from 1st element to 2nd element with value 3. From here we jump to 5th element with value 9, and from here we will jump to the last. \n",
    "Input: arr = [1, 4, 3, 2, 6, 7]\n",
    "Output: 2 \n",
    "Explanation: First we jump from the 1st to 2nd element and then jump to the last element.\n",
    "Input: arr = [0, 10, 20]\n",
    "Output: -1\n",
    "Explanation: We cannot go anywhere from the 1st element."
   ]
  },
  {
   "cell_type": "code",
   "execution_count": 2,
   "metadata": {},
   "outputs": [
    {
     "name": "stdout",
     "output_type": "stream",
     "text": [
      "3\n"
     ]
    }
   ],
   "source": [
    "def minJumps(arr):\n",
    "    _ = 0\n",
    "    count = 0\n",
    "    n = len(arr)\n",
    "    while _ <= n-2:\n",
    "        if arr[_] == 0:\n",
    "            return -1\n",
    "        \n",
    "        jump = arr[_]\n",
    "        _ = _ + jump\n",
    "        count += 1\n",
    "\n",
    "    return count\n",
    "\n",
    "\n",
    "arr = [1, 3, 5, 8, 9, 2, 6, 7, 6, 8, 9]\n",
    "print(minJumps(arr))"
   ]
  },
  {
   "cell_type": "code",
   "execution_count": 3,
   "metadata": {},
   "outputs": [
    {
     "name": "stdout",
     "output_type": "stream",
     "text": [
      "2\n"
     ]
    }
   ],
   "source": [
    "arr = [1, 4, 3, 2, 6, 7]\n",
    "print(minJumps(arr))"
   ]
  },
  {
   "cell_type": "code",
   "execution_count": 4,
   "metadata": {},
   "outputs": [
    {
     "name": "stdout",
     "output_type": "stream",
     "text": [
      "-1\n"
     ]
    }
   ],
   "source": [
    "arr = [0, 10, 20]\n",
    "print(minJumps(arr))\n",
    "\n"
   ]
  },
  {
   "cell_type": "code",
   "execution_count": 5,
   "metadata": {},
   "outputs": [
    {
     "name": "stdout",
     "output_type": "stream",
     "text": [
      "3\n"
     ]
    }
   ],
   "source": [
    "arr = [1, 3, 0, 2, 4, 6, 8, 9]  \n",
    "print(minJumps(arr))"
   ]
  },
  {
   "cell_type": "code",
   "execution_count": 7,
   "metadata": {},
   "outputs": [
    {
     "name": "stdout",
     "output_type": "stream",
     "text": [
      "3\n"
     ]
    }
   ],
   "source": [
    "arr = [2, 3, 1, 1, 4]  \n",
    "print(minJumps(arr))"
   ]
  },
  {
   "cell_type": "code",
   "execution_count": null,
   "metadata": {},
   "outputs": [],
   "source": []
  }
 ],
 "metadata": {
  "kernelspec": {
   "display_name": "base",
   "language": "python",
   "name": "python3"
  },
  "language_info": {
   "codemirror_mode": {
    "name": "ipython",
    "version": 3
   },
   "file_extension": ".py",
   "mimetype": "text/x-python",
   "name": "python",
   "nbconvert_exporter": "python",
   "pygments_lexer": "ipython3",
   "version": "3.11.7"
  }
 },
 "nbformat": 4,
 "nbformat_minor": 2
}
